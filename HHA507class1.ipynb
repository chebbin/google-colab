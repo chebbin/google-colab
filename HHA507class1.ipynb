{
  "nbformat": 4,
  "nbformat_minor": 0,
  "metadata": {
    "colab": {
      "provenance": [],
      "toc_visible": true,
      "authorship_tag": "ABX9TyN/yBKFMjHmfyaXIAhfnOhi",
      "include_colab_link": true
    },
    "kernelspec": {
      "name": "python3",
      "display_name": "Python 3"
    },
    "language_info": {
      "name": "python"
    }
  },
  "cells": [
    {
      "cell_type": "markdown",
      "metadata": {
        "id": "view-in-github",
        "colab_type": "text"
      },
      "source": [
        "<a href=\"https://colab.research.google.com/github/chebbin/google-colab/blob/main/HHA507class1.ipynb\" target=\"_parent\"><img src=\"https://colab.research.google.com/assets/colab-badge.svg\" alt=\"Open In Colab\"/></a>"
      ]
    },
    {
      "cell_type": "markdown",
      "source": [
        "# Loading packages\n"
      ],
      "metadata": {
        "id": "ABMYD5NyBiUY"
      }
    },
    {
      "cell_type": "code",
      "source": [
        "import pandas as pd\n",
        "import seaborn as sns\n",
        "import plotly as plt\n"
      ],
      "metadata": {
        "id": "XuzOMeABB6td"
      },
      "execution_count": 9,
      "outputs": []
    },
    {
      "cell_type": "code",
      "source": [
        "!pip freeze > packages.txt"
      ],
      "metadata": {
        "id": "fw4On5yUCNcT"
      },
      "execution_count": 10,
      "outputs": []
    },
    {
      "cell_type": "markdown",
      "source": [
        "# Creating Functions"
      ],
      "metadata": {
        "id": "1dc8TMda9Tds"
      }
    },
    {
      "cell_type": "code",
      "execution_count": 1,
      "metadata": {
        "id": "VT7J2tPY5xUc"
      },
      "outputs": [],
      "source": [
        "def bloodpress(systolic, diastolic):\n",
        "  total = systolic + diastolic\n",
        "  return total"
      ]
    },
    {
      "cell_type": "code",
      "source": [
        "def bloodsugar(value):\n",
        "  valuetoprint = f\"Your blood sugar is {value}\"\n",
        "  return valuetoprint"
      ],
      "metadata": {
        "id": "1CQHqFIn9XFV"
      },
      "execution_count": 6,
      "outputs": []
    },
    {
      "cell_type": "markdown",
      "source": [
        "# Testing Functions\n"
      ],
      "metadata": {
        "id": "CWntSUpk-WZb"
      }
    },
    {
      "cell_type": "code",
      "source": [
        "# Test for Blood Pressure\n",
        "\n",
        "test1 = bloodpress(190, 155)\n",
        "test1\n"
      ],
      "metadata": {
        "colab": {
          "base_uri": "https://localhost:8080/"
        },
        "id": "PFo-Ci_A-aAY",
        "outputId": "f19a506a-9b62-4223-fe94-4c85e7118e5d"
      },
      "execution_count": 3,
      "outputs": [
        {
          "output_type": "execute_result",
          "data": {
            "text/plain": [
              "345"
            ]
          },
          "metadata": {},
          "execution_count": 3
        }
      ]
    },
    {
      "cell_type": "code",
      "source": [
        "test2 = bloodsugar(200)\n",
        "print(test2)\n"
      ],
      "metadata": {
        "colab": {
          "base_uri": "https://localhost:8080/"
        },
        "id": "bPuBvmVYBQdl",
        "outputId": "28bd2d54-ec11-4112-9eae-8dc836c9bbfe"
      },
      "execution_count": 8,
      "outputs": [
        {
          "output_type": "stream",
          "name": "stdout",
          "text": [
            "Your blood sugar is 200\n"
          ]
        }
      ]
    }
  ]
}